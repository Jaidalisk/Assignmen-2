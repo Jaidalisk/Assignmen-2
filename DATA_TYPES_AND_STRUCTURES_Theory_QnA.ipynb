{
  "nbformat": 4,
  "nbformat_minor": 0,
  "metadata": {
    "colab": {
      "provenance": []
    },
    "kernelspec": {
      "name": "python3",
      "display_name": "Python 3"
    },
    "language_info": {
      "name": "python"
    }
  },
  "cells": [
    {
      "cell_type": "code",
      "execution_count": null,
      "metadata": {
        "id": "9Lg3p2uPjPBu"
      },
      "outputs": [],
      "source": []
    },
    {
      "cell_type": "markdown",
      "source": [
        "What are data structures, and why are they important4\n",
        "\n",
        " -  Data structures are ways of organizing and storing data for efficient access and manipulation, crucial for performance optimization in algorithms."
      ],
      "metadata": {
        "id": "EZizT6TSjRMZ"
      }
    },
    {
      "cell_type": "code",
      "source": [],
      "metadata": {
        "id": "q7tNbJ6_jZn0"
      },
      "execution_count": null,
      "outputs": []
    },
    {
      "cell_type": "markdown",
      "source": [
        "Explain the difference between mutable and immutable data types with examples\n",
        " - Mutable types, like lists, can be modified after creation; immutable types, like strings, cannot be changed once created.\n",
        "\n"
      ],
      "metadata": {
        "id": "YvNGggZujrmu"
      }
    },
    {
      "cell_type": "code",
      "source": [],
      "metadata": {
        "id": "gkjEu-KCj0YE"
      },
      "execution_count": null,
      "outputs": []
    },
    {
      "cell_type": "markdown",
      "source": [
        "What are the main differences between lists and tuples in Python\n",
        " - Lists are mutable and allow modification; tuples are immutable, meaning they cannot be changed once created.\n",
        "\n"
      ],
      "metadata": {
        "id": "vv-q4zzmj3Nm"
      }
    },
    {
      "cell_type": "code",
      "source": [],
      "metadata": {
        "id": "ZVtCTSr_kAOc"
      },
      "execution_count": null,
      "outputs": []
    },
    {
      "cell_type": "markdown",
      "source": [
        "Describe how dictionaries store data\n",
        " - Dictionaries store data in key-value pairs, where each key is unique and maps to a value.\n",
        "\n"
      ],
      "metadata": {
        "id": "XISswnTxkCtm"
      }
    },
    {
      "cell_type": "code",
      "source": [],
      "metadata": {
        "id": "OM-F05-bkJQn"
      },
      "execution_count": null,
      "outputs": []
    },
    {
      "cell_type": "markdown",
      "source": [
        "Why might you use a set instead of a list in Python\n",
        " - Sets are preferred over lists when uniqueness of elements is important because they automatically eliminate duplicates.\n",
        "\n"
      ],
      "metadata": {
        "id": "-PK_PAFOkMbm"
      }
    },
    {
      "cell_type": "code",
      "source": [],
      "metadata": {
        "id": "ATUl4bkdkUm8"
      },
      "execution_count": null,
      "outputs": []
    },
    {
      "cell_type": "markdown",
      "source": [
        "What is a string in Python, and how is it different from a list\n",
        " - Strings are immutable sequences of characters, while lists are mutable collections of various data types.\n",
        "\n"
      ],
      "metadata": {
        "id": "7Vx08-2OkXCI"
      }
    },
    {
      "cell_type": "code",
      "source": [],
      "metadata": {
        "id": "T5HcEvFeke0C"
      },
      "execution_count": null,
      "outputs": []
    },
    {
      "cell_type": "markdown",
      "source": [
        "How do tuples ensure data integrity in Python\n",
        " - Tuples ensure data integrity by being immutable, meaning their values cannot be changed, ensuring consistent data.\n",
        "\n"
      ],
      "metadata": {
        "id": "HVI23Zo0kixO"
      }
    },
    {
      "cell_type": "code",
      "source": [],
      "metadata": {
        "id": "T4pUcqoHktFj"
      },
      "execution_count": null,
      "outputs": []
    },
    {
      "cell_type": "markdown",
      "source": [
        "What is a hash table, and how does it relate to dictionaries in Python\n",
        " - A hash table is a data structure that stores key-value pairs and is used by dictionaries for fast lookups via hashing.\n",
        "\n"
      ],
      "metadata": {
        "id": "MFomZEjfkzfm"
      }
    },
    {
      "cell_type": "code",
      "source": [
        ""
      ],
      "metadata": {
        "id": "4PPajCrUk0Ma"
      },
      "execution_count": null,
      "outputs": []
    },
    {
      "cell_type": "markdown",
      "source": [
        "Can lists contain different data types in Python\n",
        " - Yes, lists can contain different data types, allowing for heterogeneous collections.\n",
        "\n"
      ],
      "metadata": {
        "id": "UC_UrLuxk8n3"
      }
    },
    {
      "cell_type": "code",
      "source": [],
      "metadata": {
        "id": "ZtmHnyGclF74"
      },
      "execution_count": null,
      "outputs": []
    },
    {
      "cell_type": "markdown",
      "source": [
        "Explain why strings are immutable in Python\n",
        " - Strings are immutable because they are designed for efficiency and security, preventing accidental modification of their content.\n",
        "\n"
      ],
      "metadata": {
        "id": "r4zKYLbOlIgu"
      }
    },
    {
      "cell_type": "code",
      "source": [],
      "metadata": {
        "id": "3l0C95AClPjG"
      },
      "execution_count": null,
      "outputs": []
    },
    {
      "cell_type": "markdown",
      "source": [
        "What advantages do dictionaries offer over lists for certain tasks\n",
        " - Dictionaries offer faster lookups by key and are ideal for associative data, while lists are better for ordered collections of items.\n",
        "\n"
      ],
      "metadata": {
        "id": "8w_PRIM4lR72"
      }
    },
    {
      "cell_type": "code",
      "source": [],
      "metadata": {
        "id": "RHG9SqNFlZFr"
      },
      "execution_count": null,
      "outputs": []
    },
    {
      "cell_type": "markdown",
      "source": [
        "Describe a scenario where using a tuple would be preferable over a list\n",
        " - Use a tuple when you need an immutable, fixed collection of items, like representing coordinates or configuration settings.\n",
        "\n"
      ],
      "metadata": {
        "id": "8YXEqNGMlbfw"
      }
    },
    {
      "cell_type": "code",
      "source": [],
      "metadata": {
        "id": "B17P3N_flh-V"
      },
      "execution_count": null,
      "outputs": []
    },
    {
      "cell_type": "markdown",
      "source": [
        "How do sets handle duplicate values in Python\n",
        " - Sets automatically eliminate duplicate values, ensuring that all elements are unique.\n",
        "\n"
      ],
      "metadata": {
        "id": "Fvi2yTaLlmlX"
      }
    },
    {
      "cell_type": "code",
      "source": [],
      "metadata": {
        "id": "AWiBsM2plo3B"
      },
      "execution_count": null,
      "outputs": []
    },
    {
      "cell_type": "markdown",
      "source": [
        "How does the “in” keyword work differently for lists and dictionaries\n",
        " - For lists, \"in\" checks if an item exists in the list; for dictionaries, it checks if a key exists.\n",
        "\n"
      ],
      "metadata": {
        "id": "qogT2LGMlyCW"
      }
    },
    {
      "cell_type": "code",
      "source": [],
      "metadata": {
        "id": "KB3dkzACl44C"
      },
      "execution_count": null,
      "outputs": []
    },
    {
      "cell_type": "markdown",
      "source": [
        "Can you modify the elements of a tuple? Explain why or why not\n",
        " - No, tuples cannot be modified because they are immutable by design, ensuring their integrity.\n",
        "\n"
      ],
      "metadata": {
        "id": "UDlaxXp3l7EX"
      }
    },
    {
      "cell_type": "code",
      "source": [],
      "metadata": {
        "id": "T35ZZcv3mC5W"
      },
      "execution_count": null,
      "outputs": []
    },
    {
      "cell_type": "markdown",
      "source": [
        "What is a nested dictionary, and give an example of its use case\n",
        " - A nested dictionary contains dictionaries as values, used to represent hierarchical data, e.g., {\"person\": {\"name\": \"John\", \"age\": 30}}.\n",
        "\n"
      ],
      "metadata": {
        "id": "OwWfBozKmE_-"
      }
    },
    {
      "cell_type": "code",
      "source": [],
      "metadata": {
        "id": "YYevlrFomO_P"
      },
      "execution_count": null,
      "outputs": []
    },
    {
      "cell_type": "markdown",
      "source": [
        "Describe the time complexity of accessing elements in a dictionary\n",
        " - Accessing elements in a dictionary has an average time complexity of O(1), meaning it is very efficient.\n",
        "\n"
      ],
      "metadata": {
        "id": "a53TEPGimRIn"
      }
    },
    {
      "cell_type": "code",
      "source": [],
      "metadata": {
        "id": "GKv8djVhmXLD"
      },
      "execution_count": null,
      "outputs": []
    },
    {
      "cell_type": "markdown",
      "source": [
        "In what situations are lists preferred over dictionaries\n",
        " - Lists are preferred when maintaining order or handling ordered collections, while dictionaries are better for key-value associations.\n",
        "\n"
      ],
      "metadata": {
        "id": "tr0q2lpymZQ-"
      }
    },
    {
      "cell_type": "code",
      "source": [],
      "metadata": {
        "id": "vrUEtjtgmfnl"
      },
      "execution_count": null,
      "outputs": []
    },
    {
      "cell_type": "markdown",
      "source": [
        "Why are dictionaries considered unordered, and how does that affect data retrieval\n",
        " - Dictionaries are unordered because their keys are hashed, meaning their order is not guaranteed, affecting how data is retrieved.\n",
        "\n",
        "\n",
        "\n"
      ],
      "metadata": {
        "id": "FXHoUfUHmh_e"
      }
    },
    {
      "cell_type": "code",
      "source": [],
      "metadata": {
        "id": "cToXZQi5mpgT"
      },
      "execution_count": null,
      "outputs": []
    },
    {
      "cell_type": "markdown",
      "source": [
        "Explain the difference between a list and a dictionary in terms of data retrieval.\n",
        " - A list retrieves data by index, which is ordered and accessed sequentially, while a dictionary retrieves data by key, allowing for faster lookups using unique keys.\n",
        "\n",
        "\n",
        "\n"
      ],
      "metadata": {
        "id": "eXuwKvkBm3dO"
      }
    },
    {
      "cell_type": "code",
      "source": [],
      "metadata": {
        "id": "K-hSfrjWm9KB"
      },
      "execution_count": null,
      "outputs": []
    }
  ]
}